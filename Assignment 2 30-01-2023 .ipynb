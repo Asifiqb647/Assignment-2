{
 "cells": [
  {
   "cell_type": "code",
   "execution_count": null,
   "id": "31d1bdb4-152f-4281-b07d-895dd0f16b13",
   "metadata": {},
   "outputs": [],
   "source": [
    "# Q1. write a program to accept percentage from the user and display the grade according to the following criteria.\n",
    "# Marks     Grade\n",
    "# >90        A\n",
    "# >80<=90    B\n",
    "# >60<=80    C\n",
    "# below 60   D\n",
    "\n",
    "# Ans.\n",
    "\n",
    "Marks = int(input('Enter your Marks:'))\n",
    "if Marks >90 and Marks <=100:\n",
    "    print (\"Your Grade is 'A'\")\n",
    "elif Marks <=90 and Marks >80:\n",
    "    print (\"Your Grade is 'B'\")\n",
    "elif Marks >60 and Marks <=80:\n",
    "    print (\"Your Grade is 'C'\")\n",
    "else :\n",
    "    print (\"Your Grade is 'D'\")\n"
   ]
  },
  {
   "cell_type": "code",
   "execution_count": null,
   "id": "0acd09ec-5057-4cb7-a71b-41c02d266e75",
   "metadata": {},
   "outputs": [],
   "source": [
    "# Q2. Write a program to accept the cost price of a bike and display the road tax to be paid according to the following criteria.\n",
    "# Tax           Cost Price (RS)\n",
    "# 15%             >100000\n",
    "# 10%           >50000<=100000\n",
    "# 5%             <=50000\n",
    "\n",
    "\n",
    "# Ans.\n",
    "\n",
    "Cost_Price = int(input('Entre the Cost Price of Bike:'))\n",
    "if Cost_Price >100000:\n",
    "    print ('Road Tax will be 15%')\n",
    "elif Cost_Price >50000 and Cost_Price <=100000:\n",
    "    print ('Road Tax will be 10%')\n",
    "else:\n",
    "    print ('Road Tax will be 05%')"
   ]
  },
  {
   "cell_type": "code",
   "execution_count": null,
   "id": "44e24af2-cce6-4e8a-b494-0a0b8660320c",
   "metadata": {},
   "outputs": [],
   "source": [
    "# Q3. Accept any city from the user and display monuments of that city.\n",
    "#  City           Monuments\n",
    "#  Delhi          Red Fort\n",
    "#  Agra           Taj Mahal\n",
    "#  Jaipur         Jal mahal\n",
    "\n",
    "# Ans.\n",
    "\n",
    "City = input('Entre the Name of City:')\n",
    "if City.lower() == 'delhi':\n",
    "    print ('Monument of DELHI is RED FORT')\n",
    "elif City.lower() == 'agra':\n",
    "    print ('Monument of AGRA is TAJ MAHAL')\n",
    "elif City.lower() == 'jaipur':\n",
    "    print ('Monument of JAIPUR is JAL MAHAL')\n",
    "else:\n",
    "    print (\"SORRY, I don't know the Monuments of this city\")"
   ]
  },
  {
   "cell_type": "code",
   "execution_count": null,
   "id": "3be49045-4628-4b29-9abd-80cc4c4bff65",
   "metadata": {},
   "outputs": [],
   "source": [
    "# Q4. Check how many times a given number can be divided by 3 before it is less than or equal to 10.\n",
    "# Ans.\n",
    "\n",
    "Number = int(input('Enter a number: '))\n",
    "Times = 0\n",
    "\n",
    "while Number > 10:\n",
    "    Number /= 3\n",
    "    Times += 1\n",
    "\n",
    "print('The given number can be divided by 3 before it is less than or equal to 10 is', Times,)\n"
   ]
  },
  {
   "cell_type": "code",
   "execution_count": null,
   "id": "c543c04a-7af4-446b-ba50-bbe81a60daee",
   "metadata": {},
   "outputs": [],
   "source": [
    "# Q5. Why and when to use while loop in python give a detailed description with example.\n",
    "\n",
    "# Ans. why - 1) In Python, a while loop is used to execute a block of code repeatedly until a specific condition is met.\n",
    "#            2)The code block will be executed repeatedly as long as the condition remains true. Once the condition becomes false, the loop will exit and the program will continue with the next line of code after the while loop.\n",
    "#     When - 1) When the number of iterations is not known in advance, If you need to repeat a block of code until a certain condition is met, but you don't know exactly how many times the loop needs to run, a while loop is a good choice.\n",
    "#            2) When you want to iterate over a list or other iterable object, Although Python has built-in ways to iterate over lists and other iterable objects (such as for loops), there may be cases where you need to perform more complex logic to determine when to stop iterating. A while loop can be used to achieve this.\n",
    "#            3) When you want to create an infinite loop, In some cases, you may want a loop to run indefinitely until a specific condition is met. This is called an infinite loop, and it can be created using a while loop with a condition that is always true.\n",
    "#     Example - \n",
    "\n",
    "Number = int(input('Enter a number: '))\n",
    "Times = 0\n",
    "\n",
    "while Number > 10:\n",
    "    Number /= 3\n",
    "    Times += 1\n",
    "\n",
    "print('The given number can be divided by 3 before it is less than or equal to 10 is', Times,)\n",
    "\n"
   ]
  },
  {
   "cell_type": "code",
   "execution_count": null,
   "id": "996ac581-050b-42ec-927c-108a734b48ee",
   "metadata": {},
   "outputs": [],
   "source": [
    "# Q6. use nested while loop to print 3 different pattern.\n",
    "# Ans. \n",
    "\n",
    "# Pattern 1\n",
    "\n",
    "i = 1\n",
    "while i <= 5:\n",
    "    j = 1\n",
    "    while j <= i:\n",
    "        print(\"*\", end=\"\")\n",
    "        j += 1\n",
    "    print()\n",
    "    i += 1\n",
    "\n",
    "    \n",
    "# Pattern 2\n",
    "\n",
    "\n",
    "i = 1\n",
    "while i <= 5:\n",
    "    j = 1\n",
    "    while j <= i:\n",
    "        print(j, end=\"\")\n",
    "        j += 1\n",
    "    print()\n",
    "    i += 1\n",
    "\n",
    "    \n",
    "    \n",
    "# Pattern 3 \n",
    "\n",
    "i = 5\n",
    "while i >= 1:\n",
    "    j = 1\n",
    "    while j <= i:\n",
    "        print(\"*\", end=\"\")\n",
    "        j += 1\n",
    "    print()\n",
    "    i -= 1\n"
   ]
  },
  {
   "cell_type": "code",
   "execution_count": null,
   "id": "a7a444f7-abdd-4f2a-b3ff-156da851742f",
   "metadata": {},
   "outputs": [],
   "source": [
    "# Q7. Reverse a while loop to display numbers from 10 to 1. \n",
    "# Ans. \n",
    "\n",
    "num = 10\n",
    "while num >= 1:\n",
    "    print(num)\n",
    "    num -= 1\n"
   ]
  },
  {
   "cell_type": "code",
   "execution_count": null,
   "id": "1b685068-ef75-4368-a3ca-ef6be2f647e5",
   "metadata": {},
   "outputs": [],
   "source": [
    "# Q8. Reverse a while loop to display numbers from 10 to 1. \n",
    "# Ans. \n",
    "\n",
    "num = 10\n",
    "while num >= 1:\n",
    "    print(num)\n",
    "    num -= 1"
   ]
  },
  {
   "cell_type": "code",
   "execution_count": null,
   "id": "b0835e71-71d1-4a44-985e-9f4372540717",
   "metadata": {},
   "outputs": [],
   "source": []
  }
 ],
 "metadata": {
  "kernelspec": {
   "display_name": "Python 3 (ipykernel)",
   "language": "python",
   "name": "python3"
  },
  "language_info": {
   "codemirror_mode": {
    "name": "ipython",
    "version": 3
   },
   "file_extension": ".py",
   "mimetype": "text/x-python",
   "name": "python",
   "nbconvert_exporter": "python",
   "pygments_lexer": "ipython3",
   "version": "3.10.8"
  }
 },
 "nbformat": 4,
 "nbformat_minor": 5
}
